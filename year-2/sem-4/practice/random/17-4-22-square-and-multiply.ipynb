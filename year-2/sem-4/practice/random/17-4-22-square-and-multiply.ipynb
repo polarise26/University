{
 "cells": [
  {
   "cell_type": "markdown",
   "metadata": {},
   "source": [
    "# Square and Multiply\n",
    "This ipynb is about [this numberphile video](https://www.youtube.com/watch?v=cbGB__V8MNk&t=207s) about a method to reduce the number of operations required when a number is raised to a huge power. Seemed very interesting and wanted to try coding it. :)"
   ]
  },
  {
   "cell_type": "code",
   "execution_count": 47,
   "metadata": {},
   "outputs": [
    {
     "name": "stdout",
     "output_type": "stream",
     "text": [
      "['1']\n",
      "3215612 raised to the power 1 is 3215612.\n"
     ]
    }
   ],
   "source": [
    "base = int(input(\"Enter the base of the expression.\"))\n",
    "\n",
    "# Getting the value for the power in the expression and storing its binary equivalent in a list of strings.\n",
    "powerInDecimal = int(input(\"Enter the exponent of the expression.\"))\n",
    "powerInBinaryList = [str(i) for i in list('{0:0b}'.format(powerInDecimal))]\n",
    "\n",
    "# Initialising base; no better way to assign value to the first bit other than this condition that I can come up with rn.\n",
    "if powerInDecimal == 0:\n",
    "    exponent = 1\n",
    "else:\n",
    "    exponent = base\n",
    "\n",
    "print(powerInBinaryList)\n",
    "\n",
    "# For loop which either just squares the number when the next bit is a 0, and squaresthe number then multiplies it by the base.\n",
    "for i in range (1, len(powerInBinaryList)):\n",
    "    if powerInBinaryList[i] == '0':\n",
    "        exponent *= exponent\n",
    "    elif powerInBinaryList[i] == '1':\n",
    "        exponent *= exponent\n",
    "        exponent *= base\n",
    "    \n",
    "# Printing the resultant exponent.\n",
    "print(\"{} raised to the power {} is {}.\".format(base, powerInDecimal, exponent))\n"
   ]
  },
  {
   "cell_type": "markdown",
   "metadata": {},
   "source": [
    "#### Attempt 1:\n",
    "\n",
    "This attempt is purely my own attempt of coding the algorithm, playing around with the code and then debugging it. This is probably not very optimised."
   ]
  }
 ],
 "metadata": {
  "interpreter": {
   "hash": "2626be1b57d845e8566f7fec242252f6d43dcc88bceb77415a8cbaf229aaf537"
  },
  "kernelspec": {
   "display_name": "Python 3.9.7 ('base')",
   "language": "python",
   "name": "python3"
  },
  "language_info": {
   "codemirror_mode": {
    "name": "ipython",
    "version": 3
   },
   "file_extension": ".py",
   "mimetype": "text/x-python",
   "name": "python",
   "nbconvert_exporter": "python",
   "pygments_lexer": "ipython3",
   "version": "3.9.7"
  },
  "orig_nbformat": 4
 },
 "nbformat": 4,
 "nbformat_minor": 2
}

{
  "nbformat": 4,
  "nbformat_minor": 0,
  "metadata": {
    "colab": {
      "name": "NeuralNetworks.ipynb",
      "provenance": [],
      "collapsed_sections": []
    },
    "kernelspec": {
      "name": "python3",
      "display_name": "Python 3"
    },
    "language_info": {
      "name": "python"
    }
  },
  "cells": [
    {
      "cell_type": "code",
      "execution_count": null,
      "metadata": {
        "id": "BNTWbWS6WYC4"
      },
      "outputs": [],
      "source": [
        "#pip install torch"
      ]
    },
    {
      "cell_type": "code",
      "source": [
        "import torch\n",
        "\n",
        "\n",
        "x = torch.randn(2, 3, 4)\n",
        "mul_ide = torch.eye(3)\n",
        "a = torch.ones(3,3)\n",
        "print(x)\n",
        "print(torch.transpose(x, 1, 2))"
      ],
      "metadata": {
        "colab": {
          "base_uri": "https://localhost:8080/"
        },
        "id": "fRjuVl_dWhmp",
        "outputId": "a91e562c-0cc9-4fd8-d6ba-075d1196b982"
      },
      "execution_count": null,
      "outputs": [
        {
          "output_type": "stream",
          "name": "stdout",
          "text": [
            "tensor([[[-0.7016,  0.4943,  1.8187,  0.6331],\n",
            "         [ 0.5315,  0.9525, -1.7193, -1.4939],\n",
            "         [-1.6145, -1.0272,  0.4910,  0.5133]],\n",
            "\n",
            "        [[ 0.0805, -0.1980,  0.8996,  3.1660],\n",
            "         [ 0.1910, -0.4689,  1.7663,  1.6275],\n",
            "         [ 1.0767,  0.4620, -1.3731, -1.4323]]])\n",
            "tensor([[[-0.7016,  0.5315, -1.6145],\n",
            "         [ 0.4943,  0.9525, -1.0272],\n",
            "         [ 1.8187, -1.7193,  0.4910],\n",
            "         [ 0.6331, -1.4939,  0.5133]],\n",
            "\n",
            "        [[ 0.0805,  0.1910,  1.0767],\n",
            "         [-0.1980, -0.4689,  0.4620],\n",
            "         [ 0.8996,  1.7663, -1.3731],\n",
            "         [ 3.1660,  1.6275, -1.4323]]])\n"
          ]
        }
      ]
    },
    {
      "cell_type": "code",
      "source": [
        "pi_matrix = torch.full((4,6), 3.1416)\n",
        "\n",
        "print(torch.t(pi_matrix))"
      ],
      "metadata": {
        "id": "P9xrPjsIcWDr",
        "colab": {
          "base_uri": "https://localhost:8080/"
        },
        "outputId": "e21f137a-50f8-4e1b-b753-65bc774dc96c"
      },
      "execution_count": null,
      "outputs": [
        {
          "output_type": "stream",
          "name": "stdout",
          "text": [
            "tensor([[3.1416, 3.1416, 3.1416, 3.1416],\n",
            "        [3.1416, 3.1416, 3.1416, 3.1416],\n",
            "        [3.1416, 3.1416, 3.1416, 3.1416],\n",
            "        [3.1416, 3.1416, 3.1416, 3.1416],\n",
            "        [3.1416, 3.1416, 3.1416, 3.1416],\n",
            "        [3.1416, 3.1416, 3.1416, 3.1416]])\n"
          ]
        }
      ]
    },
    {
      "cell_type": "code",
      "source": [
        "twototwelve = torch.linspace(2, 12, 10)\n",
        "print(twototwelve)"
      ],
      "metadata": {
        "colab": {
          "base_uri": "https://localhost:8080/"
        },
        "id": "tMpyUsTdf8jX",
        "outputId": "46704a24-6eea-4330-d293-d750c408a44d"
      },
      "execution_count": null,
      "outputs": [
        {
          "output_type": "stream",
          "name": "stdout",
          "text": [
            "tensor([ 2.0000,  3.1111,  4.2222,  5.3333,  6.4444,  7.5556,  8.6667,  9.7778,\n",
            "        10.8889, 12.0000])\n"
          ]
        }
      ]
    },
    {
      "cell_type": "code",
      "source": [
        ""
      ],
      "metadata": {
        "id": "jwlR7Zyngk2q"
      },
      "execution_count": null,
      "outputs": []
    }
  ]
}
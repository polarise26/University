{
 "cells": [
  {
   "attachments": {},
   "cell_type": "markdown",
   "metadata": {},
   "source": [
    "## Experiment 1\n",
    "---\n",
    "Implementing FIND-S algorithm."
   ]
  },
  {
   "cell_type": "code",
   "execution_count": 3,
   "metadata": {},
   "outputs": [],
   "source": [
    "import pandas as pd"
   ]
  },
  {
   "cell_type": "code",
   "execution_count": 14,
   "metadata": {},
   "outputs": [],
   "source": [
    "# Load data from CSV file\n",
    "data = pd.read_csv(r'C:\\Users\\kannu\\OneDrive\\Documents\\github-repos\\University\\year-3\\sem-6\\appl-ml-industries\\data\\weather-1.csv')\n",
    "\n",
    "# Initialize the hypothesis to the first positive example\n",
    "hypothesis = data[data['EnjoySport'] == 'yes'].iloc[0, :-1].tolist()"
   ]
  },
  {
   "cell_type": "code",
   "execution_count": 15,
   "metadata": {},
   "outputs": [
    {
     "name": "stdout",
     "output_type": "stream",
     "text": [
      "['?', '?', 'normal', '?']\n"
     ]
    }
   ],
   "source": [
    "# Loop over each positive training example and update the hypothesis\n",
    "for _, row in data[data['EnjoySport'] == 'yes'].iterrows():\n",
    "    for i, val in enumerate(row[:-1]):\n",
    "        if val != hypothesis[i]:\n",
    "            hypothesis[i] = '?'\n",
    "\n",
    "# Print the final hypothesis\n",
    "print(hypothesis)"
   ]
  }
 ],
 "metadata": {
  "kernelspec": {
   "display_name": "Python 3",
   "language": "python",
   "name": "python3"
  },
  "language_info": {
   "codemirror_mode": {
    "name": "ipython",
    "version": 3
   },
   "file_extension": ".py",
   "mimetype": "text/x-python",
   "name": "python",
   "nbconvert_exporter": "python",
   "pygments_lexer": "ipython3",
   "version": "3.9.13"
  },
  "orig_nbformat": 4
 },
 "nbformat": 4,
 "nbformat_minor": 2
}

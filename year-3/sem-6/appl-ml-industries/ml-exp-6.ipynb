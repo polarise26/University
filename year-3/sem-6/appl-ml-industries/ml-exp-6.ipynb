{
 "cells": [
  {
   "attachments": {},
   "cell_type": "markdown",
   "metadata": {},
   "source": [
    "## Experiment 6\n",
    "---\n",
    "Implement a Naive Bayes Classifier and evaluate its accuracy."
   ]
  },
  {
   "cell_type": "code",
   "execution_count": 54,
   "metadata": {},
   "outputs": [
    {
     "name": "stdout",
     "output_type": "stream",
     "text": [
      "Accuracy: 0.96175\n",
      "Confusion matrix:\n",
      "[[1840  153]\n",
      " [   0 2007]]\n"
     ]
    }
   ],
   "source": [
    "import random\n",
    "import pandas as pd\n",
    "from faker import Faker\n",
    "from sklearn.feature_extraction.text import CountVectorizer\n",
    "from sklearn.naive_bayes import MultinomialNB\n",
    "from sklearn.metrics import confusion_matrix\n",
    "\n",
    "# Set random seed for reproducibility\n",
    "random.seed(42)\n",
    "\n",
    "# Initialize Faker object\n",
    "faker = Faker()\n",
    "\n",
    "# Generate fake emails\n",
    "n_emails = 10000\n",
    "spam_prop = 0.5\n",
    "emails = []\n",
    "for i in range(n_emails):\n",
    "    if random.random() < spam_prop:\n",
    "        # Generate spam email\n",
    "        subject = faker.text(max_nb_chars=50)\n",
    "        body = faker.text(max_nb_chars=500)\n",
    "        label = 'spam'\n",
    "    else:\n",
    "        # Generate ham email\n",
    "        subject = faker.sentence(nb_words=5)\n",
    "        body = faker.paragraph(nb_sentences=3)\n",
    "        body = 'ham_' + body\n",
    "        label = 'ham'\n",
    "    emails.append({'subject': subject, 'body': body, 'label': label})\n",
    "\n",
    "# Convert emails to pandas DataFrame\n",
    "emails_df = pd.DataFrame(emails)\n",
    "\n",
    "# Split data into training and testing sets\n",
    "train_prop = 0.6\n",
    "train_size = int(train_prop * n_emails)\n",
    "train_emails = emails_df.sample(n=train_size, random_state=42)\n",
    "test_emails = emails_df.drop(train_emails.index)\n",
    "\n",
    "# Preprocess email text data\n",
    "vectorizer = CountVectorizer(stop_words='english')\n",
    "X_train = vectorizer.fit_transform(train_emails['subject'] + ' ' + train_emails['body'])\n",
    "y_train = train_emails['label']\n",
    "X_test = vectorizer.transform(test_emails['subject'] + ' ' + test_emails['body'])\n",
    "y_test = test_emails['label']\n",
    "\n",
    "# Fit Naive Bayes classifier\n",
    "clf = MultinomialNB()\n",
    "clf.fit(X_train, y_train)\n",
    "\n",
    "# Predict labels for test data\n",
    "y_pred = clf.predict(X_test)\n",
    "\n",
    "# Calculate accuracy and confusion matrix\n",
    "acc = clf.score(X_test, y_test)\n",
    "cm = confusion_matrix(y_test, y_pred)\n",
    "\n",
    "print('Accuracy:', acc)\n",
    "print('Confusion matrix:')\n",
    "print(cm)\n"
   ]
  }
 ],
 "metadata": {
  "kernelspec": {
   "display_name": "Python 3",
   "language": "python",
   "name": "python3"
  },
  "language_info": {
   "codemirror_mode": {
    "name": "ipython",
    "version": 3
   },
   "file_extension": ".py",
   "mimetype": "text/x-python",
   "name": "python",
   "nbconvert_exporter": "python",
   "pygments_lexer": "ipython3",
   "version": "3.9.13"
  },
  "orig_nbformat": 4
 },
 "nbformat": 4,
 "nbformat_minor": 2
}

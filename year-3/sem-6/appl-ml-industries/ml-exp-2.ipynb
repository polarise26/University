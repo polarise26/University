{
 "cells": [
  {
   "attachments": {},
   "cell_type": "markdown",
   "metadata": {},
   "source": [
    "## Experiment 2\n",
    "---\n",
    "Implement Candidate Elimination Algorithm.  \n",
    "\n",
    "A little theory:\n",
    "\n",
    "Concept: a subset of objects or events defined over a larger set.\n",
    "\n",
    "It is a boolean valued function, defined over the larger set.\n",
    "\n"
   ]
  },
  {
   "attachments": {},
   "cell_type": "markdown",
   "metadata": {},
   "source": [
    "- Given a set of examples labeled as members or non-members of a concept, concept- learning consists of automatically inferring the general definition of this concept.\n",
    "\n",
    "- In other words, concept-learning consists of approximating a boolean-valued function from training examples of its input and output.\n",
    "\n",
    "- The concept to be learned is called the Target Concept (denoted by\n",
    "c: X--> {0,1})\n",
    "\n",
    "- The set of Training Examples is a set of instances, x, along with their target concept value c(x).\n",
    "\n",
    "- Members of the concept (instances for which c(x)=1) are called positive examples.\n",
    "\n",
    "- Nonmembers of the concept (instances for which c(x)=0) are called negative examples.\n",
    "\n",
    "- H represents the set of all possible hypotheses. H is determined by the human designer’s choice of a hypothesis representation.\n",
    "\n",
    "- The goal of concept-learning is to find a hypothesis h:X --> {0,1} such that h(x)=c(x) for all x in X"
   ]
  },
  {
   "attachments": {},
   "cell_type": "markdown",
   "metadata": {},
   "source": [
    "CEA finds the version space V by identifying its general and specific boundaries, G and S. G contains the most general hypotheses in V, whereas the most specific ones are in S. We can obtain all the hypotheses in V by specializing the ones from G until we reach S or by generalizing those from S until we get G.\n",
    "\n",
    "Let’s denote as V(G, S) the version space whose general and specific boundaries are G and S. At the start of CEA, G contains only the most general hypothesis in H. Similarly, S contains only the most specific hypothesis in H."
   ]
  },
  {
   "cell_type": "code",
   "execution_count": 3,
   "metadata": {},
   "outputs": [
    {
     "name": "stdout",
     "output_type": "stream",
     "text": [
      "Specific Boundary:  ['?', '?', 'normal', '?']\n",
      "General Boundary:  ['?', '?', '?', '?']\n"
     ]
    }
   ],
   "source": [
    "import csv\n",
    "\n",
    "with open(r'C:\\Users\\kannu\\OneDrive\\Documents\\github-repos\\University\\year-3\\sem-6\\appl-ml-industries\\data\\weather-1.csv') as csvFile:\n",
    "    examples = [tuple(line) for line in csv.reader(csvFile)]\n",
    "\n",
    "# initialize the specific and general boundaries\n",
    "specific_boundary = ['0' for _ in range(len(examples[0])-1)]\n",
    "general_boundary = ['?' for _ in range(len(examples[0])-1)]\n",
    "\n",
    "# loop through each training example and update the boundary\n",
    "for example in examples:\n",
    "    if example[-1] == 'yes':\n",
    "        # update the specific boundary\n",
    "        for i in range(len(specific_boundary)):\n",
    "            if specific_boundary[i] == '0':\n",
    "                specific_boundary[i] = example[i]\n",
    "            elif example[i] != specific_boundary[i]:\n",
    "                specific_boundary[i] = '?'\n",
    "        \n",
    "        # update the general boundary\n",
    "        for i in range(len(general_boundary)):\n",
    "            if example[i] != specific_boundary[i]:\n",
    "                general_boundary[i] = '?'\n",
    "    else:\n",
    "        # update the general boundary\n",
    "        for i in range(len(general_boundary)):\n",
    "            if example[i] != specific_boundary[i] and general_boundary[i] != '?':\n",
    "                general_boundary[i] = '?'\n",
    "                \n",
    "print(\"Specific Boundary: \", specific_boundary)\n",
    "print(\"General Boundary: \", general_boundary)\n"
   ]
  }
 ],
 "metadata": {
  "kernelspec": {
   "display_name": "Python 3",
   "language": "python",
   "name": "python3"
  },
  "language_info": {
   "codemirror_mode": {
    "name": "ipython",
    "version": 3
   },
   "file_extension": ".py",
   "mimetype": "text/x-python",
   "name": "python",
   "nbconvert_exporter": "python",
   "pygments_lexer": "ipython3",
   "version": "3.9.13"
  },
  "orig_nbformat": 4
 },
 "nbformat": 4,
 "nbformat_minor": 2
}

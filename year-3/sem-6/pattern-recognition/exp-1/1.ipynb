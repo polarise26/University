{
 "cells": [
  {
   "attachments": {},
   "cell_type": "markdown",
   "metadata": {},
   "source": [
    "Importing the necessary libraries."
   ]
  },
  {
   "cell_type": "code",
   "execution_count": 1,
   "metadata": {},
   "outputs": [],
   "source": [
    "from sklearn.datasets import make_regression\n",
    "import numpy as np\n",
    "import matplotlib.pyplot as plt\n"
   ]
  },
  {
   "attachments": {},
   "cell_type": "markdown",
   "metadata": {},
   "source": [
    "Function to print out the summary statistics of a variable."
   ]
  },
  {
   "cell_type": "code",
   "execution_count": 2,
   "metadata": {},
   "outputs": [],
   "source": [
    "def printSummary(var, x):\n",
    "    print(\"\\nSummary Statistics for '{}'\".format(var))\n",
    "    print(f\"Mean = {np.mean(x)}\\nStandard Deviation = {np.std(x)}\")\n"
   ]
  },
  {
   "attachments": {},
   "cell_type": "markdown",
   "metadata": {},
   "source": [
    "Creating a dataset using `sklearn.datasets.make_regression()` to then fit a curve to. Here, the dataset generated will have 100 samples with 1 feature and a single target. "
   ]
  },
  {
   "cell_type": "code",
   "execution_count": 18,
   "metadata": {},
   "outputs": [],
   "source": [
    "X, t = make_regression(500, 1, shuffle=True, bias=1, noise=200, random_state=5)\n"
   ]
  },
  {
   "attachments": {},
   "cell_type": "markdown",
   "metadata": {},
   "source": [
    "Printing a sample of our data points."
   ]
  },
  {
   "cell_type": "code",
   "execution_count": 20,
   "metadata": {},
   "outputs": [
    {
     "data": {
      "text/plain": [
       "array([[-0.2434197 ],\n",
       "       [ 1.36404151],\n",
       "       [-0.28749661],\n",
       "       [-0.2151878 ],\n",
       "       [-0.345037  ],\n",
       "       [-0.81391201],\n",
       "       [-2.85968797],\n",
       "       [ 2.64535345],\n",
       "       [ 0.50583979],\n",
       "       [ 0.37226978]])"
      ]
     },
     "execution_count": 20,
     "metadata": {},
     "output_type": "execute_result"
    }
   ],
   "source": [
    "X[:10]"
   ]
  },
  {
   "attachments": {},
   "cell_type": "markdown",
   "metadata": {},
   "source": [
    "Printing a sample of our target."
   ]
  },
  {
   "cell_type": "code",
   "execution_count": 21,
   "metadata": {},
   "outputs": [
    {
     "data": {
      "text/plain": [
       "array([  49.58236786,   53.7973853 ,  215.85332417, -562.02071977,\n",
       "        -18.48110626,   19.05299499,   16.59529296,  340.37718416,\n",
       "         -5.75961757,   68.4655016 ])"
      ]
     },
     "execution_count": 21,
     "metadata": {},
     "output_type": "execute_result"
    }
   ],
   "source": [
    "t[0:10]"
   ]
  },
  {
   "attachments": {},
   "cell_type": "markdown",
   "metadata": {},
   "source": [
    "Shape of X and t."
   ]
  },
  {
   "cell_type": "code",
   "execution_count": 22,
   "metadata": {},
   "outputs": [
    {
     "data": {
      "text/plain": [
       "((500, 1), (500,))"
      ]
     },
     "execution_count": 22,
     "metadata": {},
     "output_type": "execute_result"
    }
   ],
   "source": [
    "X.shape, t.shape"
   ]
  },
  {
   "attachments": {},
   "cell_type": "markdown",
   "metadata": {},
   "source": [
    "Printing the summary statistics for X and t."
   ]
  },
  {
   "cell_type": "code",
   "execution_count": 23,
   "metadata": {},
   "outputs": [
    {
     "name": "stdout",
     "output_type": "stream",
     "text": [
      "\n",
      "Summary Statistics for 'X'\n",
      "Mean = 0.019839851325100938\n",
      "Standard Deviation = 0.9801716281830802\n",
      "\n",
      "Summary Statistics for 't'\n",
      "Mean = 12.744366123106595\n",
      "Standard Deviation = 208.86299351877807\n"
     ]
    }
   ],
   "source": [
    "printSummary('X', X)\n",
    "printSummary('t', t)\n"
   ]
  },
  {
   "attachments": {},
   "cell_type": "markdown",
   "metadata": {},
   "source": [
    "## Linear Fitting"
   ]
  },
  {
   "cell_type": "code",
   "execution_count": 24,
   "metadata": {},
   "outputs": [
    {
     "name": "stdout",
     "output_type": "stream",
     "text": [
      "\n",
      "\n",
      "y-Intercept = 11.653593406999512\n",
      "Slope = 54.97887550835936\n"
     ]
    }
   ],
   "source": [
    "# Calculate mean of both variables\n",
    "xMean = np.mean(X)\n",
    "tMean = np.mean(t)\n",
    "\n",
    "# Calculate deltaX, deltaT and deltaXSquare\n",
    "deltaX = [float(i - xMean) for i in X]\n",
    "deltaXSquare = [float(pow(i, 2)) for i in X]\n",
    "deltaT = [float(i - tMean) for i in t]\n",
    "\n",
    "# Calculate the list in the numerator\n",
    "productDelta = []\n",
    "for i in range(0, len(deltaT)):\n",
    "    productDelta.append(deltaX[i] * deltaT[i])\n",
    "\n",
    "# Calculate slope and y-intercept\n",
    "slope = sum(productDelta) / sum(deltaXSquare)\n",
    "yIntercept = tMean - (slope * xMean)\n",
    "\n",
    "# Print final output\n",
    "print(f'\\n\\ny-Intercept = {yIntercept}\\nSlope = {slope}')"
   ]
  },
  {
   "cell_type": "code",
   "execution_count": 25,
   "metadata": {},
   "outputs": [
    {
     "data": {
      "image/png": "[encoded data removed]",
      "text/plain": [
       "<Figure size 432x288 with 1 Axes>"
      ]
     },
     "metadata": {
      "needs_background": "light"
     },
     "output_type": "display_data"
    }
   ],
   "source": [
    "# Create a list of values in the best fit line\n",
    "bestFitLine = [(slope * i + yIntercept) for i in X]\n",
    "\n",
    "# Plot the best fit line over the actual values\n",
    "plt.scatter(X, t)\n",
    "plt.plot(X, bestFitLine, 'r--')\n",
    "\n",
    "plt.show()"
   ]
  }
 ],
 "metadata": {
  "kernelspec": {
   "display_name": "Python 3.8.7 64-bit",
   "language": "python",
   "name": "python3"
  },
  "language_info": {
   "codemirror_mode": {
    "name": "ipython",
    "version": 3
   },
   "file_extension": ".py",
   "mimetype": "text/x-python",
   "name": "python",
   "nbconvert_exporter": "python",
   "pygments_lexer": "ipython3",
   "version": "3.8.7"
  },
  "orig_nbformat": 4,
  "vscode": {
   "interpreter": {
    "hash": "9730efa35a332aeffe3462ccd9140728d4801ad9797525c97e522b52620da801"
   }
  }
 },
 "nbformat": 4,
 "nbformat_minor": 2
}

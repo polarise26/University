{
  "cells": [
    {
      "cell_type": "markdown",
      "metadata": {
        "id": "-10Xa8R9BAuj"
      },
      "source": [
        "# Experiment 1 - Pandas Review\n",
        "\n",
        "### Problem Statement\n",
        "\n",
        "Create a pandas dataframe with student data, impute values and calculate the average of a feature.\n",
        "\n",
        "---"
      ]
    },
    {
      "cell_type": "markdown",
      "metadata": {
        "id": "4ivrxebfBAuo"
      },
      "source": [
        "Import necessary libraries."
      ]
    },
    {
      "cell_type": "code",
      "execution_count": 1,
      "metadata": {
        "id": "jBZ1bi3nBAup"
      },
      "outputs": [],
      "source": [
        "import pandas as pd\n",
        "import numpy as np\n",
        "import random"
      ]
    },
    {
      "cell_type": "markdown",
      "metadata": {
        "id": "-nOjtb84BAuq"
      },
      "source": [
        "Define the number of students (i.e., records) to generate data for. Then, generate two lists, one for height and another for weight, of those students."
      ]
    },
    {
      "cell_type": "code",
      "execution_count": 2,
      "metadata": {
        "id": "HMtlHlrGBAur"
      },
      "outputs": [],
      "source": [
        "numberOfStudents = 1000\n",
        "\n",
        "listOfHeights = [random.randrange(130, 200) for i in range(numberOfStudents)]\n",
        "listOfWeights = [random.randrange(50, 150) for i in range(numberOfStudents)]\n"
      ]
    },
    {
      "cell_type": "markdown",
      "metadata": {
        "id": "6tV7MQ4oBAus"
      },
      "source": [
        "Arrange the generated data into a pandas dataframe."
      ]
    },
    {
      "cell_type": "code",
      "execution_count": 3,
      "metadata": {
        "colab": {
          "base_uri": "https://localhost:8080/",
          "height": 450
        },
        "id": "iQvW66MkBAus",
        "outputId": "8a667d83-fee0-4868-f27a-efd0ff7559b5"
      },
      "outputs": [
        {
          "data": {
            "text/html": [
              "<div>\n",
              "<style scoped>\n",
              "    .dataframe tbody tr th:only-of-type {\n",
              "        vertical-align: middle;\n",
              "    }\n",
              "\n",
              "    .dataframe tbody tr th {\n",
              "        vertical-align: top;\n",
              "    }\n",
              "\n",
              "    .dataframe thead th {\n",
              "        text-align: right;\n",
              "    }\n",
              "</style>\n",
              "<table border=\"1\" class=\"dataframe\">\n",
              "  <thead>\n",
              "    <tr style=\"text-align: right;\">\n",
              "      <th></th>\n",
              "      <th>Student Weights (kgs)</th>\n",
              "      <th>Student Heights (cms)</th>\n",
              "    </tr>\n",
              "    <tr>\n",
              "      <th>Student ID</th>\n",
              "      <th></th>\n",
              "      <th></th>\n",
              "    </tr>\n",
              "  </thead>\n",
              "  <tbody>\n",
              "    <tr>\n",
              "      <th>1</th>\n",
              "      <td>76</td>\n",
              "      <td>147</td>\n",
              "    </tr>\n",
              "    <tr>\n",
              "      <th>2</th>\n",
              "      <td>85</td>\n",
              "      <td>171</td>\n",
              "    </tr>\n",
              "    <tr>\n",
              "      <th>3</th>\n",
              "      <td>82</td>\n",
              "      <td>138</td>\n",
              "    </tr>\n",
              "    <tr>\n",
              "      <th>4</th>\n",
              "      <td>107</td>\n",
              "      <td>137</td>\n",
              "    </tr>\n",
              "    <tr>\n",
              "      <th>5</th>\n",
              "      <td>52</td>\n",
              "      <td>194</td>\n",
              "    </tr>\n",
              "    <tr>\n",
              "      <th>...</th>\n",
              "      <td>...</td>\n",
              "      <td>...</td>\n",
              "    </tr>\n",
              "    <tr>\n",
              "      <th>996</th>\n",
              "      <td>127</td>\n",
              "      <td>184</td>\n",
              "    </tr>\n",
              "    <tr>\n",
              "      <th>997</th>\n",
              "      <td>133</td>\n",
              "      <td>166</td>\n",
              "    </tr>\n",
              "    <tr>\n",
              "      <th>998</th>\n",
              "      <td>118</td>\n",
              "      <td>160</td>\n",
              "    </tr>\n",
              "    <tr>\n",
              "      <th>999</th>\n",
              "      <td>54</td>\n",
              "      <td>149</td>\n",
              "    </tr>\n",
              "    <tr>\n",
              "      <th>1000</th>\n",
              "      <td>139</td>\n",
              "      <td>145</td>\n",
              "    </tr>\n",
              "  </tbody>\n",
              "</table>\n",
              "<p>1000 rows × 2 columns</p>\n",
              "</div>"
            ],
            "text/plain": [
              "            Student Weights (kgs)  Student Heights (cms)\n",
              "Student ID                                              \n",
              "1                              76                    147\n",
              "2                              85                    171\n",
              "3                              82                    138\n",
              "4                             107                    137\n",
              "5                              52                    194\n",
              "...                           ...                    ...\n",
              "996                           127                    184\n",
              "997                           133                    166\n",
              "998                           118                    160\n",
              "999                            54                    149\n",
              "1000                          139                    145\n",
              "\n",
              "[1000 rows x 2 columns]"
            ]
          },
          "execution_count": 3,
          "metadata": {},
          "output_type": "execute_result"
        }
      ],
      "source": [
        "df = pd.DataFrame(data = {\n",
        "        'Student ID': list(np.arange(1, numberOfStudents + 1)),\n",
        "        'Student Weights (kgs)': listOfWeights,\n",
        "        'Student Heights (cms)': listOfHeights \n",
        "    }   \n",
        ")\n",
        "\n",
        "df.set_index('Student ID')\n"
      ]
    },
    {
      "cell_type": "markdown",
      "metadata": {
        "id": "g3RCtqe4BAut"
      },
      "source": [
        "Describe summary statistics of the dataframe."
      ]
    },
    {
      "cell_type": "code",
      "execution_count": 4,
      "metadata": {
        "colab": {
          "base_uri": "https://localhost:8080/",
          "height": 297
        },
        "id": "fADhRRhABAuu",
        "outputId": "625bbff4-1641-4a12-b773-8af08cb10e86"
      },
      "outputs": [
        {
          "data": {
            "text/html": [
              "<div>\n",
              "<style scoped>\n",
              "    .dataframe tbody tr th:only-of-type {\n",
              "        vertical-align: middle;\n",
              "    }\n",
              "\n",
              "    .dataframe tbody tr th {\n",
              "        vertical-align: top;\n",
              "    }\n",
              "\n",
              "    .dataframe thead th {\n",
              "        text-align: right;\n",
              "    }\n",
              "</style>\n",
              "<table border=\"1\" class=\"dataframe\">\n",
              "  <thead>\n",
              "    <tr style=\"text-align: right;\">\n",
              "      <th></th>\n",
              "      <th>Student ID</th>\n",
              "      <th>Student Weights (kgs)</th>\n",
              "      <th>Student Heights (cms)</th>\n",
              "    </tr>\n",
              "  </thead>\n",
              "  <tbody>\n",
              "    <tr>\n",
              "      <th>count</th>\n",
              "      <td>1000.000000</td>\n",
              "      <td>1000.00000</td>\n",
              "      <td>1000.000000</td>\n",
              "    </tr>\n",
              "    <tr>\n",
              "      <th>mean</th>\n",
              "      <td>500.500000</td>\n",
              "      <td>100.30300</td>\n",
              "      <td>164.511000</td>\n",
              "    </tr>\n",
              "    <tr>\n",
              "      <th>std</th>\n",
              "      <td>288.819436</td>\n",
              "      <td>28.83381</td>\n",
              "      <td>20.233024</td>\n",
              "    </tr>\n",
              "    <tr>\n",
              "      <th>min</th>\n",
              "      <td>1.000000</td>\n",
              "      <td>50.00000</td>\n",
              "      <td>130.000000</td>\n",
              "    </tr>\n",
              "    <tr>\n",
              "      <th>25%</th>\n",
              "      <td>250.750000</td>\n",
              "      <td>75.75000</td>\n",
              "      <td>147.000000</td>\n",
              "    </tr>\n",
              "    <tr>\n",
              "      <th>50%</th>\n",
              "      <td>500.500000</td>\n",
              "      <td>100.00000</td>\n",
              "      <td>165.000000</td>\n",
              "    </tr>\n",
              "    <tr>\n",
              "      <th>75%</th>\n",
              "      <td>750.250000</td>\n",
              "      <td>126.00000</td>\n",
              "      <td>182.000000</td>\n",
              "    </tr>\n",
              "    <tr>\n",
              "      <th>max</th>\n",
              "      <td>1000.000000</td>\n",
              "      <td>149.00000</td>\n",
              "      <td>199.000000</td>\n",
              "    </tr>\n",
              "  </tbody>\n",
              "</table>\n",
              "</div>"
            ],
            "text/plain": [
              "        Student ID  Student Weights (kgs)  Student Heights (cms)\n",
              "count  1000.000000             1000.00000            1000.000000\n",
              "mean    500.500000              100.30300             164.511000\n",
              "std     288.819436               28.83381              20.233024\n",
              "min       1.000000               50.00000             130.000000\n",
              "25%     250.750000               75.75000             147.000000\n",
              "50%     500.500000              100.00000             165.000000\n",
              "75%     750.250000              126.00000             182.000000\n",
              "max    1000.000000              149.00000             199.000000"
            ]
          },
          "execution_count": 4,
          "metadata": {},
          "output_type": "execute_result"
        }
      ],
      "source": [
        "df.describe()\n"
      ]
    },
    {
      "cell_type": "markdown",
      "metadata": {
        "id": "UgDwzNYaBAuv"
      },
      "source": [
        "Calculate the averages of weights and heights of all students and print them out."
      ]
    },
    {
      "cell_type": "code",
      "execution_count": 5,
      "metadata": {
        "colab": {
          "base_uri": "https://localhost:8080/"
        },
        "id": "TkmvytfKBAuv",
        "outputId": "18a12f6a-83a2-4748-e92f-933f8ac98fa4"
      },
      "outputs": [
        {
          "name": "stdout",
          "output_type": "stream",
          "text": [
            "The average student height in cms is: 164.511 cm\n",
            "The average student weight in kgs is: 100.303 kg\n"
          ]
        }
      ],
      "source": [
        "meanStudentHeight = df['Student Heights (cms)'].mean()\n",
        "meanStudentWeight = df['Student Weights (kgs)'].mean()\n",
        "\n",
        "print('The average student height in cms is:', meanStudentHeight, 'cm')\n",
        "print('The average student weight in kgs is:', meanStudentWeight, 'kg')\n"
      ]
    },
    {
      "cell_type": "markdown",
      "metadata": {
        "id": "D-xXgi-FBAuw"
      },
      "source": [
        "---"
      ]
    }
  ],
  "metadata": {
    "colab": {
      "provenance": []
    },
    "kernelspec": {
      "display_name": "Python 3.8.7 64-bit",
      "language": "python",
      "name": "python3"
    },
    "language_info": {
      "codemirror_mode": {
        "name": "ipython",
        "version": 3
      },
      "file_extension": ".py",
      "mimetype": "text/x-python",
      "name": "python",
      "nbconvert_exporter": "python",
      "pygments_lexer": "ipython3",
      "version": "3.8.7"
    },
    "orig_nbformat": 4,
    "vscode": {
      "interpreter": {
        "hash": "9730efa35a332aeffe3462ccd9140728d4801ad9797525c97e522b52620da801"
      }
    }
  },
  "nbformat": 4,
  "nbformat_minor": 0
}

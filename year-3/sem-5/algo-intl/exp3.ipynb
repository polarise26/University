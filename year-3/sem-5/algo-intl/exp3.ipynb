{
 "cells": [
  {
   "cell_type": "markdown",
   "metadata": {},
   "source": [
    "## BFS and DFS implementation!  \n",
    "  \n",
    "This is code for the implementation of BFS (Breadth First Search) and DFS (Depth First Search)."
   ]
  },
  {
   "cell_type": "code",
   "execution_count": 72,
   "metadata": {},
   "outputs": [
    {
     "name": "stdout",
     "output_type": "stream",
     "text": [
      "defaultdict(<class 'list'>, {0: [113, 0], 1: [246, 1], 2: [392, 2], 3: [369, 3], 4: [83, 4], 5: [382, 5], 6: [113, 6], 7: [490, 7]})\n"
     ]
    },
    {
     "data": {
      "text/plain": [
       "[]"
      ]
     },
     "execution_count": 72,
     "metadata": {},
     "output_type": "execute_result"
    }
   ],
   "source": [
    "from collections import defaultdict\n",
    "from random import randint\n",
    "\n",
    "dct = defaultdict(list)\n",
    "\n",
    "for i in range(8):\n",
    "    dct[i].append(randint(0, 500))\n",
    "\n",
    "for i in range(8):\n",
    "    dct[i].append(i)\n",
    "\n",
    "print(dct)\n",
    "\n",
    "# Would raise a KeyError if we didn't use a defaultdict\n",
    "dct[10]\n"
   ]
  },
  {
   "cell_type": "markdown",
   "metadata": {},
   "source": [
    "As we can see, since we use defaultdict instead of dict, the program would return a KeyError and not run.  \n",
    "  \n",
    "However using defaultdict makes it so all keys of a dictionary are initialised with a certain value, with the help of a certain function or datatype."
   ]
  },
  {
   "cell_type": "code",
   "execution_count": 87,
   "metadata": {},
   "outputs": [
    {
     "name": "stdout",
     "output_type": "stream",
     "text": [
      "defaultdict(<class 'list'>, {0: [235], 1: [123], 2: [100], 3: [471], 4: [154], 5: [202], 6: [414], 7: [374]})\n",
      "[False, False, False, False, False, False, False, False]\n"
     ]
    }
   ],
   "source": [
    "from collections import defaultdict\n",
    "\n",
    "\n",
    "class Graph:\n",
    "    \n",
    "    def __init__(self):\n",
    "        self.graph = defaultdict(list)\n",
    "    \n",
    "    def addConnection(self):\n",
    "        x = int(input(\"Enter the starting node: \"))\n",
    "        y = int(input(\"Enter the destination node: \"))\n",
    "        self.graph[x].append(y)\n",
    "\n",
    "    def bfs(self):\n",
    "        \n",
    "        source = input(\"Enter the source node: \")\n",
    "        # Marking each node as unvisited\n",
    "        visited = [False] * (max(self.graph) + 1)\n",
    "\n",
    "        # Create a queue for BFS\n",
    "        queue = []\n",
    "\n",
    "        # Mark the source node as\n",
    "        # visited and enqueue it\n",
    "        queue.append(source)\n",
    "        visited[source] = True\n",
    "\n",
    "        while queue:\n",
    "            # Dequeue a vertex from queue and print it\n",
    "            source = queue.pop(0)\n",
    "            print(source, end=\" \")\n",
    "\n",
    "            # Get all adjacent vertices of the\n",
    "            # dequeued vertex s. If a adjacent\n",
    "            # has not been visited, then mark it\n",
    "            # visited and enqueue it\n",
    "            for i in self.graph[source]:\n",
    "                if visited[i] == False:\n",
    "                    queue.append(i)\n",
    "                    visited[i] = True\n",
    "                    \n",
    "    def dfs(self):\n",
    "                            \n",
    "\n",
    "    def __str__(self):\n",
    "        for k, v in self.graph:\n",
    "            return f\"{self.graph} \\n\"\n",
    "    \n",
    "\n",
    "if __name__ == '__main__':\n",
    "    G = Graph()\n",
    "    while True:\n",
    "        choice = int(input(\"1. Add node \\n2. BFS \\n3. DFS \\n4. See the state of the graph \\n5. Exit\"))\n",
    "        if choice == 1:\n",
    "            G.addConnection()\n",
    "        elif choice == 2:\n",
    "            G.bfs()\n",
    "        elif choice == 3:\n",
    "            G.dfs()\n",
    "        elif choice == 4:\n",
    "            print(G)\n",
    "        elif choice == 5:\n",
    "            break\n",
    "        else:\n",
    "            print(\"Incorrect choice! Try again!\")"
   ]
  }
 ],
 "metadata": {
  "kernelspec": {
   "display_name": "Python 3.9.7 ('base')",
   "language": "python",
   "name": "python3"
  },
  "language_info": {
   "codemirror_mode": {
    "name": "ipython",
    "version": 3
   },
   "file_extension": ".py",
   "mimetype": "text/x-python",
   "name": "python",
   "nbconvert_exporter": "python",
   "pygments_lexer": "ipython3",
   "version": "3.9.7"
  },
  "orig_nbformat": 4,
  "vscode": {
   "interpreter": {
    "hash": "07679939c1e9e0123cdb7f1e3e47ca7bd0ebf7d11a568c172f75cf735eef26da"
   }
  }
 },
 "nbformat": 4,
 "nbformat_minor": 2
}

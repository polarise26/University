{
 "cells": [
  {
   "cell_type": "markdown",
   "metadata": {},
   "source": [
    "### Simple Neural Network!"
   ]
  },
  {
   "cell_type": "code",
   "execution_count": 6,
   "metadata": {},
   "outputs": [
    {
     "name": "stdout",
     "output_type": "stream",
     "text": [
      "Randomly generated initial weights: \n",
      "[[-0.16595599]\n",
      " [ 0.44064899]\n",
      " [-0.99977125]]\n",
      "Final weights after training: \n",
      "[[10.08740896]\n",
      " [-0.20695366]\n",
      " [-4.83757835]]\n",
      "Considering a new state:  ['1' '0' '0']\n",
      "New output data: \n",
      "[0.9999584]\n",
      "Simple neural network implemented.\n"
     ]
    }
   ],
   "source": [
    "import numpy as np\n",
    "\n",
    "\n",
    "class NeuralNetwork():\n",
    "\n",
    "    def __init__(self):\n",
    "        # seeding for random number generation\n",
    "        np.random.seed(1)\n",
    "\n",
    "        #converting weights to a 3 by 1 matrix with values from -1 to 1 and mean of 0\n",
    "        self.synaptic_weights = 2 * np.random.random((3, 1)) - 1\n",
    "\n",
    "    def sigmoid(self, x):\n",
    "        #applying the sigmoid function\n",
    "        return 1 / (1 + np.exp(-x))\n",
    "\n",
    "    def sigmoid_derivative(self, x):\n",
    "        #computing derivative to the Sigmoid function\n",
    "        return x * (1 - x)\n",
    "\n",
    "    def train(self, training_inputs, training_outputs, training_iterations):\n",
    "\n",
    "        #training the model to make accurate predictions while adjusting weights continually\n",
    "        for iteration in range(training_iterations):\n",
    "            #siphon the training data via  the neuron\n",
    "            output = self.think(training_inputs)\n",
    "\n",
    "            #computing error rate for back-propagation\n",
    "            error = training_outputs - output\n",
    "\n",
    "            #performing weight adjustments\n",
    "            adjustments = np.dot(training_inputs.T, error *\n",
    "                                 self.sigmoid_derivative(output))\n",
    "\n",
    "            self.synaptic_weights += adjustments\n",
    "\n",
    "    def think(self, inputs):\n",
    "        #passing the inputs via the neuron to get output\n",
    "        #converting values to floats\n",
    "\n",
    "        inputs = inputs.astype(float)\n",
    "        output = self.sigmoid(np.dot(inputs, self.synaptic_weights))\n",
    "        return output\n",
    "\n",
    "\n",
    "if __name__ == \"__main__\":\n",
    "\n",
    "    #initializing the neuron class\n",
    "    neural_network = NeuralNetwork()\n",
    "\n",
    "    print(\"Randomly generated initial weights: \")\n",
    "    print(neural_network.synaptic_weights)\n",
    "\n",
    "    #training data consisting of 4 examples--3 input values and 1 output\n",
    "    training_inputs = np.array([[0, 0, 1],\n",
    "                                [1, 1, 1],\n",
    "                                [1, 0, 1],\n",
    "                                [0, 1, 1]])\n",
    "\n",
    "    training_outputs = np.array([[0, 1, 1, 0]]).T\n",
    "\n",
    "    #training taking place\n",
    "    neural_network.train(training_inputs, training_outputs, 15000)\n",
    "\n",
    "    print(\"Final weights after training: \")\n",
    "    print(neural_network.synaptic_weights)\n",
    "\n",
    "    user_input_one = str(input(\"User input one: \"))\n",
    "    user_input_two = str(input(\"User input two: \"))\n",
    "    user_input_three = str(input(\"User input three: \"))\n",
    "    input = np.array([user_input_one, user_input_two, user_input_three])\n",
    "\n",
    "    print(\"Considering a new state: \", input)\n",
    "    print(\"New output data: \")\n",
    "    print(neural_network.think(input))\n",
    "    print(\"Simple neural network implemented.\")\n"
   ]
  }
 ],
 "metadata": {
  "kernelspec": {
   "display_name": "Python 3.9.7 ('base')",
   "language": "python",
   "name": "python3"
  },
  "language_info": {
   "codemirror_mode": {
    "name": "ipython",
    "version": 3
   },
   "file_extension": ".py",
   "mimetype": "text/x-python",
   "name": "python",
   "nbconvert_exporter": "python",
   "pygments_lexer": "ipython3",
   "version": "3.9.7"
  },
  "orig_nbformat": 4,
  "vscode": {
   "interpreter": {
    "hash": "07679939c1e9e0123cdb7f1e3e47ca7bd0ebf7d11a568c172f75cf735eef26da"
   }
  }
 },
 "nbformat": 4,
 "nbformat_minor": 2
}

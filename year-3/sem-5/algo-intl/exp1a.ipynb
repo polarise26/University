{
 "cells": [
  {
   "cell_type": "markdown",
   "metadata": {},
   "source": [
    "## Experiment 1.a - Implementation of Time and Frequency domain of a signal using \n",
    "---"
   ]
  }
 ],
 "metadata": {
  "interpreter": {
   "hash": "2626be1b57d845e8566f7fec242252f6d43dcc88bceb77415a8cbaf229aaf537"
  },
  "kernelspec": {
   "display_name": "Python 3.9.7 ('base')",
   "language": "python",
   "name": "python3"
  },
  "language_info": {
   "name": "python",
   "version": "3.9.7"
  },
  "orig_nbformat": 4
 },
 "nbformat": 4,
 "nbformat_minor": 2
}

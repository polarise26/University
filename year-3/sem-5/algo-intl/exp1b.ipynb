{
 "cells": [
  {
   "cell_type": "code",
   "execution_count": 2,
   "metadata": {},
   "outputs": [
    {
     "name": "stdout",
     "output_type": "stream",
     "text": [
      "Calculated period, T = 2.17 s\n",
      "Estimated small-displacement angle period, Tharm = 2.0060666807106475 s\n",
      "SciPy calculated period, T = 2.152874666880516 s\n"
     ]
    },
    {
     "name": "stderr",
     "output_type": "stream",
     "text": [
      "c:\\Users\\kannu\\anaconda3\\lib\\site-packages\\matplotlib\\animation.py:973: UserWarning: Animation was deleted without rendering anything. This is most likely unintended. To prevent deletion, assign the Animation to a variable that exists for as long as you need the Animation.\n",
      "  warnings.warn(\n"
     ]
    },
    {
     "data": {
      "image/png": "[encoded data removed]",
      "text/plain": [
       "<Figure size 432x288 with 1 Axes>"
      ]
     },
     "metadata": {
      "needs_background": "light"
     },
     "output_type": "display_data"
    }
   ],
   "source": [
    "# Importing dependencies\n",
    "\n",
    "import numpy as np\n",
    "import matplotlib.pyplot as plt\n",
    "from scipy.special import ellipk\n",
    "import matplotlib.animation as animation\n",
    "from matplotlib import rc\n",
    "\n",
    "rc('animation', html='jshtml')\n",
    "\n",
    "m = 1\n",
    "L = 1\n",
    "g = 9.81\n",
    "theta0 = np.radians(60)             # Angular Displacement\n",
    "v0 = 0                              # Tangential Velocity\n",
    "\n",
    "# Estimating the period using the harmonic (small displacement) approximation.\n",
    "Tharm = 2 * np.pi * np.sqrt(L / g)\n",
    "dt = 0.01                           # Time step\n",
    "# Initial Values\n",
    "theta = [theta0]\n",
    "v = [v0]\n",
    "old_theta = theta0\n",
    "i = 0\n",
    "while True:\n",
    "    i += 1\n",
    "    t = i * dt\n",
    "    \n",
    "    old_theta, old_v = theta[-1], v[-1]\n",
    "    omega = old_v / L\n",
    "    new_theta = old_theta - omega * dt\n",
    "    acc = g * np.sin(old_theta)     # Tangential acceleration.\n",
    "    new_v = old_v + acc * dt        # updating the tangential velocity.\n",
    "    \n",
    "    if t > Tharm and new_v * old_v < 0:\n",
    "        # At the second turning point(extreme) we reach initial position so, we have completed one period and the simulation ends.\n",
    "        break\n",
    "    \n",
    "    theta.append(new_theta)\n",
    "    v.append(new_v)\n",
    "    \n",
    "nsteps = len(theta)\n",
    "T = nsteps * dt\n",
    "print('Calculated period, T = {} s'.format(T))\n",
    "print('Estimated small-displacement angle period, Tharm = {} s'.format(Tharm))\n",
    "k = np.sin(theta0/2)\n",
    "print('SciPy calculated period, T = {} s'.format(2 * Tharm / np.pi * ellipk(k**2)))\n",
    "\n",
    "\n",
    "def get_coords(th):\n",
    "    return L * np.sin(th), -L * np.cos(th)\n",
    "#Animating\n",
    "fig = plt.figure()\n",
    "ax = fig.add_subplot(aspect='equal')\n",
    "x0, y0 = get_coords(theta0)\n",
    "line, = ax.plot([0, x0], [0, y0], lw=3, c='k')\n",
    "bob_radius = 0.08\n",
    "circle = ax.add_patch(plt.Circle(get_coords(theta0), bob_radius, fc='r', zorder=3))\n",
    "ax.set_xlim(-L*1.2, L*1.2)\n",
    "ax.set_ylim(-L*1.2, L*1.2)\n",
    "\n",
    "def animate(i):\n",
    "    x, y = get_coords(theta[i])\n",
    "    line.set_data([0, x], [0, y])\n",
    "    circle.set_center((x, y))\n",
    "    \n",
    "ani = animation.FuncAnimation(fig, animate, frames=nsteps, repeat=True, interval=dt*1000)\n"
   ]
  }
 ],
 "metadata": {
  "kernelspec": {
   "display_name": "Python 3.9.7 ('base')",
   "language": "python",
   "name": "python3"
  },
  "language_info": {
   "codemirror_mode": {
    "name": "ipython",
    "version": 3
   },
   "file_extension": ".py",
   "mimetype": "text/x-python",
   "name": "python",
   "nbconvert_exporter": "python",
   "pygments_lexer": "ipython3",
   "version": "3.9.7"
  },
  "orig_nbformat": 4,
  "vscode": {
   "interpreter": {
    "hash": "07679939c1e9e0123cdb7f1e3e47ca7bd0ebf7d11a568c172f75cf735eef26da"
   }
  }
 },
 "nbformat": 4,
 "nbformat_minor": 2
}

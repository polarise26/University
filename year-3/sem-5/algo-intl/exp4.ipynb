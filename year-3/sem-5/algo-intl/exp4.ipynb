{
 "cells": [
  {
   "cell_type": "markdown",
   "metadata": {},
   "source": [
    "### Hill Climbing!"
   ]
  },
  {
   "cell_type": "code",
   "execution_count": 24,
   "metadata": {},
   "outputs": [
    {
     "name": "stdout",
     "output_type": "stream",
     "text": [
      "The solution is \n",
      " [8, 9, 6, 3, 4, 0, 2, 7, 5, 1, 10]\n"
     ]
    }
   ],
   "source": [
    "import random\n",
    "import numpy as np\n",
    "import networkx as nx\n",
    "\n",
    "# coordinate of the points/cities\n",
    "\n",
    "coordinate = np.random.randint(0, 100, (11, 2))\n",
    "\n",
    "# adjacency matrix for a weighted graph based on the given coordinates\n",
    "\n",
    "def generate_matrix(coordinate):\n",
    "    matrix = []\n",
    "    for i in range(len(coordinate)):\n",
    "        for j in range(len(coordinate)):\n",
    "            p = np.linalg.norm(coordinate[i] - coordinate[j])\n",
    "            matrix.append(p)\n",
    "    matrix = np.reshape(matrix, (len(coordinate), len(coordinate)))\n",
    "    return matrix\n",
    "\n",
    "# finds a random solution\n",
    "\n",
    "def solution(matrix):\n",
    "    points = list(range(0, len(matrix)))\n",
    "    solution = []\n",
    "    for i in range(0, len(matrix)):\n",
    "        random_point = points[random.randint(0, len(points) - 1)]\n",
    "        solution.append(random_point)\n",
    "        points.remove(random_point)\n",
    "    return solution\n",
    "\n",
    "# calculate the path based on the random solution\n",
    "\n",
    "def path_length(matrix, solution):\n",
    "    cycle_length = 0\n",
    "    for i in range(0, len(solution)):\n",
    "        cycle_length += matrix[solution[i]][solution[i - 1]]\n",
    "    return cycle_length\n",
    "\n",
    "# generate neighbors of the random solution by swapping cities and returns the best neighbor\n",
    "\n",
    "def neighbors(matrix, solution):\n",
    "    neighbors = []\n",
    "    for i in range(len(solution)):\n",
    "        for j in range(i + 1, len(solution)):\n",
    "            neighbor = solution.copy()\n",
    "            neighbor[i] = solution[j]\n",
    "            neighbor[j] = solution[i]\n",
    "            neighbors.append(neighbor)\n",
    "\n",
    "    # assume that the first neighbor in the list is the best neighbor\n",
    "    best_neighbor = neighbors[0]\n",
    "    best_path = path_length(matrix, best_neighbor)\n",
    "\n",
    "    # check if there is a better neighbor\n",
    "    for neighbor in neighbors:\n",
    "        current_path = path_length(matrix, neighbor)\n",
    "        if current_path < best_path:\n",
    "            best_path = current_path\n",
    "            best_neighbor = neighbor\n",
    "    return best_neighbor, best_path\n",
    "\n",
    "def hill_climbing(coordinate):\n",
    "    matrix = generate_matrix(coordinate)\n",
    "\n",
    "    current_solution = solution(matrix)\n",
    "    current_path = path_length(matrix, current_solution)\n",
    "    neighbor = neighbors(matrix, current_solution)[0]\n",
    "    best_neighbor, best_neighbor_path = neighbors(matrix, neighbor)\n",
    "\n",
    "    while best_neighbor_path < current_path:\n",
    "        current_solution = best_neighbor\n",
    "        current_path = best_neighbor_path\n",
    "        neighbor = neighbors(matrix, current_solution)[0]\n",
    "        best_neighbor, best_neighbor_path = neighbors(matrix, neighbor)\n",
    "\n",
    "    return current_path, current_solution\n",
    "\n",
    "final_solution = hill_climbing(coordinate)\n",
    "print(\"The solution is \\n\", final_solution[1])\n"
   ]
  }
 ],
 "metadata": {
  "kernelspec": {
   "display_name": "Python 3.9.7 ('base')",
   "language": "python",
   "name": "python3"
  },
  "language_info": {
   "codemirror_mode": {
    "name": "ipython",
    "version": 3
   },
   "file_extension": ".py",
   "mimetype": "text/x-python",
   "name": "python",
   "nbconvert_exporter": "python",
   "pygments_lexer": "ipython3",
   "version": "3.9.7"
  },
  "orig_nbformat": 4,
  "vscode": {
   "interpreter": {
    "hash": "07679939c1e9e0123cdb7f1e3e47ca7bd0ebf7d11a568c172f75cf735eef26da"
   }
  }
 },
 "nbformat": 4,
 "nbformat_minor": 2
}

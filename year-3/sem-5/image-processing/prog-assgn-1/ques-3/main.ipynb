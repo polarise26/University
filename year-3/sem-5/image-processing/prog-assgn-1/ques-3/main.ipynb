{
 "cells": [
  {
   "cell_type": "markdown",
   "metadata": {},
   "source": [
    "### Importing dependencies"
   ]
  },
  {
   "cell_type": "code",
   "execution_count": 66,
   "metadata": {},
   "outputs": [],
   "source": [
    "from PIL import Image\n",
    "import matplotlib.pyplot as plt\n",
    "import numpy as np\n",
    "\n",
    "from skimage import img_as_uint\n",
    "from skimage.io import imshow, imread\n",
    "from skimage.color import rgb2hsv, rgb2gray\n"
   ]
  },
  {
   "cell_type": "code",
   "execution_count": 67,
   "metadata": {},
   "outputs": [],
   "source": [
    "kidRed = Image.open(\"kidred.jpg\")\n",
    "redEye = Image.open(\"redeye.jpg\")\n",
    "redEyeBaby = Image.open(\"redeyebaby.jpg\")\n",
    "redEyeEffect = Image.open(\"redeyeeffect.png\")\n",
    "\n"
   ]
  },
  {
   "cell_type": "code",
   "execution_count": 68,
   "metadata": {},
   "outputs": [
    {
     "data": {
      "text/plain": [
       "(1600, 1200)"
      ]
     },
     "execution_count": 68,
     "metadata": {},
     "output_type": "execute_result"
    }
   ],
   "source": [
    "kidRed.size\n"
   ]
  },
  {
   "cell_type": "code",
   "execution_count": 69,
   "metadata": {},
   "outputs": [],
   "source": [
    "def redEyeRemover(img):\n",
    "    w, h = img.size\n",
    "    newImg = Image.new('RGB', (w, h))\n",
    "    origMap = img.load()\n",
    "    newMap = newImg.load()\n",
    "    for x in range(w):\n",
    "        for y in range(h):\n",
    "            origPix = origMap[x, y]\n",
    "            R = origPix[0]\n",
    "            B = origPix[1]\n",
    "            G = origPix[2]\n",
    "            if R > max(G, B):\n",
    "                R = int((G + B)/1.5)\n",
    "            newPix = (R, G, B)\n",
    "            newMap[x, y] = newPix\n",
    "    return newImg\n"
   ]
  },
  {
   "cell_type": "code",
   "execution_count": 70,
   "metadata": {},
   "outputs": [],
   "source": [
    "correctedImg = redEyeRemover(kidRed)\n",
    "correctedImg.show()\n",
    "correctedImg.save(\"kidredREMOVED.jpg\")\n"
   ]
  },
  {
   "cell_type": "code",
   "execution_count": 71,
   "metadata": {},
   "outputs": [],
   "source": [
    "correctedImg = redEyeRemover(redEye)\n",
    "correctedImg.show()\n",
    "correctedImg.save(\"redeyeREMOVED.jpg\")\n"
   ]
  },
  {
   "cell_type": "code",
   "execution_count": 72,
   "metadata": {},
   "outputs": [],
   "source": [
    "correctedImg = redEyeRemover(redEyeBaby)\n",
    "correctedImg.show()\n",
    "correctedImg.save(\"redeyebabyREMOVED.jpg\")\n"
   ]
  },
  {
   "cell_type": "code",
   "execution_count": 73,
   "metadata": {},
   "outputs": [],
   "source": [
    "correctedImg = redEyeRemover(redEyeEffect)\n",
    "correctedImg.show()\n",
    "correctedImg.save(\"redeyeeffectREMOVED.png\")\n"
   ]
  }
 ],
 "metadata": {
  "kernelspec": {
   "display_name": "Python 3.9.7 ('base')",
   "language": "python",
   "name": "python3"
  },
  "language_info": {
   "codemirror_mode": {
    "name": "ipython",
    "version": 3
   },
   "file_extension": ".py",
   "mimetype": "text/x-python",
   "name": "python",
   "nbconvert_exporter": "python",
   "pygments_lexer": "ipython3",
   "version": "3.9.7"
  },
  "orig_nbformat": 4,
  "vscode": {
   "interpreter": {
    "hash": "07679939c1e9e0123cdb7f1e3e47ca7bd0ebf7d11a568c172f75cf735eef26da"
   }
  }
 },
 "nbformat": 4,
 "nbformat_minor": 2
}

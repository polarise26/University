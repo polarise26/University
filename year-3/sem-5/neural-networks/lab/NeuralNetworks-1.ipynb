{
  "cells": [
    {
      "cell_type": "markdown",
      "metadata": {},
      "source": [
        "## Experiment 1"
      ]
    },
    {
      "cell_type": "markdown",
      "metadata": {},
      "source": [
        "#### - Installation"
      ]
    },
    {
      "cell_type": "code",
      "execution_count": 1,
      "metadata": {
        "colab": {
          "base_uri": "https://localhost:8080/"
        },
        "id": "fRjuVl_dWhmp",
        "outputId": "a91e562c-0cc9-4fd8-d6ba-075d1196b982"
      },
      "outputs": [
        {
          "name": "stdout",
          "output_type": "stream",
          "text": [
            "Requirement already satisfied: torch in c:\\users\\kannu\\anaconda3\\lib\\site-packages (1.12.1)\n",
            "Requirement already satisfied: typing-extensions in c:\\users\\kannu\\anaconda3\\lib\\site-packages (from torch) (3.10.0.2)\n",
            "Note: you may need to restart the kernel to use updated packages.\n"
          ]
        }
      ],
      "source": [
        "%pip install torch\n",
        "\n",
        "import torch\n",
        "import numpy as np"
      ]
    },
    {
      "cell_type": "markdown",
      "metadata": {},
      "source": [
        "#### - Tensor creation deletion"
      ]
    },
    {
      "cell_type": "code",
      "execution_count": 6,
      "metadata": {},
      "outputs": [
        {
          "name": "stdout",
          "output_type": "stream",
          "text": [
            "tensor([[[-0.0148,  0.5514, -0.8125, -1.7950],\n",
            "         [-0.6829,  0.8346, -0.1333,  0.9661],\n",
            "         [-0.3503,  1.4741, -0.6107, -0.2280]],\n",
            "\n",
            "        [[-0.0708,  0.0817,  0.6399,  0.1640],\n",
            "         [ 1.2369,  0.7681, -0.5579,  1.6404],\n",
            "         [-0.7384,  0.5868, -1.5527, -0.6091]]])\n",
            "tensor([[[-0.0148, -0.6829, -0.3503],\n",
            "         [ 0.5514,  0.8346,  1.4741],\n",
            "         [-0.8125, -0.1333, -0.6107],\n",
            "         [-1.7950,  0.9661, -0.2280]],\n",
            "\n",
            "        [[-0.0708,  1.2369, -0.7384],\n",
            "         [ 0.0817,  0.7681,  0.5868],\n",
            "         [ 0.6399, -0.5579, -1.5527],\n",
            "         [ 0.1640,  1.6404, -0.6091]]])\n"
          ]
        }
      ],
      "source": [
        "x = torch.randn(2, 3, 4)\n",
        "mul_ide = torch.eye(3)\n",
        "a = torch.ones(3,3)\n",
        "print(x)\n",
        "print(torch.transpose(x, 1, 2))"
      ]
    },
    {
      "cell_type": "code",
      "execution_count": 7,
      "metadata": {},
      "outputs": [
        {
          "name": "stdout",
          "output_type": "stream",
          "text": [
            "Variable x is not defined\n"
          ]
        }
      ],
      "source": [
        "del x\n",
        "try:\n",
        "    x\n",
        "except NameError:\n",
        "    print(\"Variable x is not defined\")\n"
      ]
    },
    {
      "cell_type": "markdown",
      "metadata": {},
      "source": [
        "#### - Tensor manipulation "
      ]
    },
    {
      "cell_type": "code",
      "execution_count": 20,
      "metadata": {
        "colab": {
          "base_uri": "https://localhost:8080/"
        },
        "id": "P9xrPjsIcWDr",
        "outputId": "e21f137a-50f8-4e1b-b753-65bc774dc96c"
      },
      "outputs": [
        {
          "name": "stdout",
          "output_type": "stream",
          "text": [
            "tensor([[ 0.0793,  0.9528,  1.8615],\n",
            "        [-1.7882, -0.1156, -0.8044],\n",
            "        [-0.0595,  0.7251, -0.5969]])\n",
            "tensor([[-2.0373,  1.2502,  0.6588],\n",
            "        [-0.0675,  0.8358,  0.4067],\n",
            "        [-0.2500, -0.9502,  0.9762]])\n"
          ]
        },
        {
          "data": {
            "text/plain": [
              "tensor([[-0.6912, -0.8734,  2.2570],\n",
              "        [ 3.8520, -1.5679, -2.0104],\n",
              "        [ 0.2216,  1.0987, -0.3270]])"
            ]
          },
          "execution_count": 20,
          "metadata": {},
          "output_type": "execute_result"
        }
      ],
      "source": [
        "x = torch.randn(3,3)\n",
        "y = torch.randn(3,3)\n",
        "print(x)\n",
        "print(y)\n",
        "x.mm(y)                                 #matrix multiplication\n"
      ]
    },
    {
      "cell_type": "code",
      "execution_count": null,
      "metadata": {
        "colab": {
          "base_uri": "https://localhost:8080/"
        },
        "id": "tMpyUsTdf8jX",
        "outputId": "46704a24-6eea-4330-d293-d750c408a44d"
      },
      "outputs": [
        {
          "name": "stdout",
          "output_type": "stream",
          "text": [
            "tensor([ 2.0000,  3.1111,  4.2222,  5.3333,  6.4444,  7.5556,  8.6667,  9.7778,\n",
            "        10.8889, 12.0000])\n"
          ]
        }
      ],
      "source": [
        "twototwelve = torch.linspace(2, 12, 10)\n",
        "print(twototwelve)"
      ]
    },
    {
      "cell_type": "code",
      "execution_count": null,
      "metadata": {
        "id": "jwlR7Zyngk2q"
      },
      "outputs": [],
      "source": []
    }
  ],
  "metadata": {
    "colab": {
      "collapsed_sections": [],
      "name": "NeuralNetworks.ipynb",
      "provenance": []
    },
    "kernelspec": {
      "display_name": "Python 3",
      "name": "python3"
    },
    "language_info": {
      "codemirror_mode": {
        "name": "ipython",
        "version": 3
      },
      "file_extension": ".py",
      "mimetype": "text/x-python",
      "name": "python",
      "nbconvert_exporter": "python",
      "pygments_lexer": "ipython3",
      "version": "3.9.7"
    }
  },
  "nbformat": 4,
  "nbformat_minor": 0
}

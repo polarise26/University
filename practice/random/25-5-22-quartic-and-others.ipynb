{
 "cells": [
  {
   "cell_type": "markdown",
   "metadata": {},
   "source": [
    "## Polynomial Root Finder  \n",
    "#### This is a program which:\n",
    "- Solves for the roots of a given polyomial upto the fourth degree.\n",
    "- Plots the graph for the given polynomial"
   ]
  },
  {
   "cell_type": "code",
   "execution_count": 1,
   "metadata": {},
   "outputs": [],
   "source": [
    "import numpy as np\n"
   ]
  },
  {
   "cell_type": "code",
   "execution_count": 5,
   "metadata": {},
   "outputs": [
    {
     "name": "stdout",
     "output_type": "stream",
     "text": [
      "Enter the degree of the polynomial :)\n",
      "      4        3     2\n",
      "4565 x + 4564 x + 7 x + 464 x + 4\n"
     ]
    }
   ],
   "source": [
    "roots = []\n",
    "coeffs = []\n",
    "\n",
    "degree = int(input(print(\"Enter the degree of the polynomial :)\")))\n",
    "\n",
    "for i in range(degree+1):\n",
    "    coeffs.append(int(input(f\"Enter the coefficient for the term with power {degree-i}.\")))\n",
    "\n",
    "poly = np.poly1d(coeffs)\n",
    "\n",
    "print(poly)"
   ]
  }
 ],
 "metadata": {
  "kernelspec": {
   "display_name": "Python 3.8.7 64-bit",
   "language": "python",
   "name": "python3"
  },
  "language_info": {
   "codemirror_mode": {
    "name": "ipython",
    "version": 3
   },
   "file_extension": ".py",
   "mimetype": "text/x-python",
   "name": "python",
   "nbconvert_exporter": "python",
   "pygments_lexer": "ipython3",
   "version": "3.8.7"
  },
  "orig_nbformat": 4,
  "vscode": {
   "interpreter": {
    "hash": "9730efa35a332aeffe3462ccd9140728d4801ad9797525c97e522b52620da801"
   }
  }
 },
 "nbformat": 4,
 "nbformat_minor": 2
}

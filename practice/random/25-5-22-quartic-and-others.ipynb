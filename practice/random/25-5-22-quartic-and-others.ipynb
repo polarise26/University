{
 "cells": [
  {
   "cell_type": "markdown",
   "metadata": {},
   "source": [
    "## Polynomial Root Finder  \n",
    "#### This is a program which:\n",
    "- Solves for the roots of a given polyomial upto the fourth degree.\n",
    "- Plots the graph for the given polynomial"
   ]
  },
  {
   "cell_type": "code",
   "execution_count": 7,
   "metadata": {},
   "outputs": [
    {
     "name": "stdout",
     "output_type": "stream",
     "text": [
      "Enter the degree of the polynomial :)\n",
      "   4     3     2\n",
      "1 x + 4 x + 2 x + 5 x + 3\n"
     ]
    }
   ],
   "source": [
    "import numpy as np\n",
    "\n",
    "roots = []\n",
    "coeffs = []\n",
    "\n",
    "degree = int(input(print(\"Enter the degree of the polynomial :)\")))\n",
    "\n",
    "for i in range(degree+1):\n",
    "    coeffs.append(int(input(f\"Enter the coefficient for the term with power {degree-i}.\")))\n",
    "\n",
    "poly = np.poly1d(coeffs)\n",
    "\n",
    "print()"
   ]
  }
 ],
 "metadata": {
  "interpreter": {
   "hash": "2626be1b57d845e8566f7fec242252f6d43dcc88bceb77415a8cbaf229aaf537"
  },
  "kernelspec": {
   "display_name": "Python 3.9.7 ('base')",
   "language": "python",
   "name": "python3"
  },
  "language_info": {
   "codemirror_mode": {
    "name": "ipython",
    "version": 3
   },
   "file_extension": ".py",
   "mimetype": "text/x-python",
   "name": "python",
   "nbconvert_exporter": "python",
   "pygments_lexer": "ipython3",
   "version": "3.9.7"
  },
  "orig_nbformat": 4
 },
 "nbformat": 4,
 "nbformat_minor": 2
}

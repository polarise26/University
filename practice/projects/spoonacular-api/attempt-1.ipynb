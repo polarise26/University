{
 "cells": [
  {
   "cell_type": "markdown",
   "metadata": {},
   "source": [
    "### Setting up a telegram food bot using Spoonacular API.\n",
    "[This](https://pypi.org/project/spoonacular) is the API I've used for this project, and [this](https://www.youtube.com/watch?v=FYfX9Wn76_E) is the tutorial I've followed to set it up. "
   ]
  },
  {
   "cell_type": "code",
   "execution_count": 5,
   "metadata": {},
   "outputs": [
    {
     "data": {
      "text/plain": [
       "'Position a rack in the lower third of the oven and preheat the oven to 325°F. Line the bottom and sides of an 8×8-inch square baking pan with parchment paper or foil, leaving an overhang on two opposite sides. Lightly grease with cooking spray and set aside.Combine the butter, sugar, cocoa, and salt in a medium microwave-wafe bowl. Microwave for one minute intervals, stirring in between, until the butter is melted and the mixture is smooth. Set the mixture aside until it cools slightly (is warm to the touch not hot). It will look gritty but it will become smooth once the other ingredients are added.Stir in the vanilla with a wooden spoon or rubber spatula. Add the eggs one at a time, stirring vigorously after each one. When the batter looks thick, shiny, and well blended, add the flour and stir until you cannot see it any longer, then beat vigorously for 40 strokes with the wooden spoon or a rubber spatula. Spread evenly in the lined pan.Bake until a toothpick inserted into the center emerges slightly moist with batter, 20 to 25 minutes. Let cool completely on a rack. After the brownies are cooled completely, I like to throw the pan in the refrigerator - cold brownies cut much easier and taste heavenly. Lift up the ends of the parchment or foil liner, and transfer the brownies to a cutting board. Cut into squares and serve.'"
      ]
     },
     "execution_count": 5,
     "metadata": {},
     "output_type": "execute_result"
    }
   ],
   "source": [
    "import spoonacular as sp\n",
    "import os\n",
    "import unittest\n",
    "\n",
    "api = sp.API(\"13720aba2b39413fa345f5c87ce43a7c\")\n",
    "\n",
    "# Parsing an ingredient\n",
    "response = api.extract_recipe_from_website(\"http://www.melskitchencafe.com/the-best-fudgy-brownies/\")\n",
    "data = response.json()\n",
    "data[\"instructions\"]"
   ]
  },
  {
   "cell_type": "code",
   "execution_count": null,
   "metadata": {},
   "outputs": [],
   "source": []
  }
 ],
 "metadata": {
  "interpreter": {
   "hash": "2626be1b57d845e8566f7fec242252f6d43dcc88bceb77415a8cbaf229aaf537"
  },
  "kernelspec": {
   "display_name": "Python 3.9.7 ('base')",
   "language": "python",
   "name": "python3"
  },
  "language_info": {
   "codemirror_mode": {
    "name": "ipython",
    "version": 3
   },
   "file_extension": ".py",
   "mimetype": "text/x-python",
   "name": "python",
   "nbconvert_exporter": "python",
   "pygments_lexer": "ipython3",
   "version": "3.9.7"
  },
  "orig_nbformat": 4
 },
 "nbformat": 4,
 "nbformat_minor": 2
}
